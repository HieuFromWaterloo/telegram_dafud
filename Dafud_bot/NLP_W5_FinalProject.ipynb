{
  "nbformat": 4,
  "nbformat_minor": 0,
  "metadata": {
    "kernelspec": {
      "display_name": "Python 3",
      "language": "python",
      "name": "python3"
    },
    "language_info": {
      "codemirror_mode": {
        "name": "ipython",
        "version": 3
      },
      "file_extension": ".py",
      "mimetype": "text/x-python",
      "name": "python",
      "nbconvert_exporter": "python",
      "pygments_lexer": "ipython3",
      "version": "3.4.3"
    },
    "latex_envs": {
      "bibliofile": "biblio.bib",
      "cite_by": "apalike",
      "current_citInitial": 1,
      "eqLabelWithNumbers": true,
      "eqNumInitial": 0
    },
    "colab": {
      "name": "NLP-W5-FinalProject.ipynb",
      "provenance": [],
      "collapsed_sections": []
    },
    "widgets": {
      "application/vnd.jupyter.widget-state+json": {
        "9790858b5f6d4a3090733a04d819ee03": {
          "model_module": "@jupyter-widgets/controls",
          "model_name": "HBoxModel",
          "state": {
            "_view_name": "HBoxView",
            "_dom_classes": [],
            "_model_name": "HBoxModel",
            "_view_module": "@jupyter-widgets/controls",
            "_model_module_version": "1.5.0",
            "_view_count": null,
            "_view_module_version": "1.5.0",
            "box_style": "",
            "layout": "IPY_MODEL_0923958491254488a3f53df9e95a3919",
            "_model_module": "@jupyter-widgets/controls",
            "children": [
              "IPY_MODEL_4b02bca0c71e4906a67046350b7ed06d",
              "IPY_MODEL_3d691c0486884788ac738858af3b4491"
            ]
          }
        },
        "0923958491254488a3f53df9e95a3919": {
          "model_module": "@jupyter-widgets/base",
          "model_name": "LayoutModel",
          "state": {
            "_view_name": "LayoutView",
            "grid_template_rows": null,
            "right": null,
            "justify_content": null,
            "_view_module": "@jupyter-widgets/base",
            "overflow": null,
            "_model_module_version": "1.2.0",
            "_view_count": null,
            "flex_flow": null,
            "width": null,
            "min_width": null,
            "border": null,
            "align_items": null,
            "bottom": null,
            "_model_module": "@jupyter-widgets/base",
            "top": null,
            "grid_column": null,
            "overflow_y": null,
            "overflow_x": null,
            "grid_auto_flow": null,
            "grid_area": null,
            "grid_template_columns": null,
            "flex": null,
            "_model_name": "LayoutModel",
            "justify_items": null,
            "grid_row": null,
            "max_height": null,
            "align_content": null,
            "visibility": null,
            "align_self": null,
            "height": null,
            "min_height": null,
            "padding": null,
            "grid_auto_rows": null,
            "grid_gap": null,
            "max_width": null,
            "order": null,
            "_view_module_version": "1.2.0",
            "grid_template_areas": null,
            "object_position": null,
            "object_fit": null,
            "grid_auto_columns": null,
            "margin": null,
            "display": null,
            "left": null
          }
        },
        "4b02bca0c71e4906a67046350b7ed06d": {
          "model_module": "@jupyter-widgets/controls",
          "model_name": "FloatProgressModel",
          "state": {
            "_view_name": "ProgressView",
            "style": "IPY_MODEL_43f50f0c1ce54130923dd5d733f99cb6",
            "_dom_classes": [],
            "description": "dialogues.tsv: 100%",
            "_model_name": "FloatProgressModel",
            "bar_style": "success",
            "max": 18012894,
            "_view_module": "@jupyter-widgets/controls",
            "_model_module_version": "1.5.0",
            "value": 18012894,
            "_view_count": null,
            "_view_module_version": "1.5.0",
            "orientation": "horizontal",
            "min": 0,
            "description_tooltip": null,
            "_model_module": "@jupyter-widgets/controls",
            "layout": "IPY_MODEL_a1d073de9a21476e811b8c732b9dc6cf"
          }
        },
        "3d691c0486884788ac738858af3b4491": {
          "model_module": "@jupyter-widgets/controls",
          "model_name": "HTMLModel",
          "state": {
            "_view_name": "HTMLView",
            "style": "IPY_MODEL_dd2a269be5094e6f83c35c902a589c2c",
            "_dom_classes": [],
            "description": "",
            "_model_name": "HTMLModel",
            "placeholder": "​",
            "_view_module": "@jupyter-widgets/controls",
            "_model_module_version": "1.5.0",
            "value": " 18.0M/18.0M [00:13&lt;00:00, 1.31MB/s]",
            "_view_count": null,
            "_view_module_version": "1.5.0",
            "description_tooltip": null,
            "_model_module": "@jupyter-widgets/controls",
            "layout": "IPY_MODEL_6377e4f82f244a10a13b79704e4682ec"
          }
        },
        "43f50f0c1ce54130923dd5d733f99cb6": {
          "model_module": "@jupyter-widgets/controls",
          "model_name": "ProgressStyleModel",
          "state": {
            "_view_name": "StyleView",
            "_model_name": "ProgressStyleModel",
            "description_width": "initial",
            "_view_module": "@jupyter-widgets/base",
            "_model_module_version": "1.5.0",
            "_view_count": null,
            "_view_module_version": "1.2.0",
            "bar_color": null,
            "_model_module": "@jupyter-widgets/controls"
          }
        },
        "a1d073de9a21476e811b8c732b9dc6cf": {
          "model_module": "@jupyter-widgets/base",
          "model_name": "LayoutModel",
          "state": {
            "_view_name": "LayoutView",
            "grid_template_rows": null,
            "right": null,
            "justify_content": null,
            "_view_module": "@jupyter-widgets/base",
            "overflow": null,
            "_model_module_version": "1.2.0",
            "_view_count": null,
            "flex_flow": null,
            "width": null,
            "min_width": null,
            "border": null,
            "align_items": null,
            "bottom": null,
            "_model_module": "@jupyter-widgets/base",
            "top": null,
            "grid_column": null,
            "overflow_y": null,
            "overflow_x": null,
            "grid_auto_flow": null,
            "grid_area": null,
            "grid_template_columns": null,
            "flex": null,
            "_model_name": "LayoutModel",
            "justify_items": null,
            "grid_row": null,
            "max_height": null,
            "align_content": null,
            "visibility": null,
            "align_self": null,
            "height": null,
            "min_height": null,
            "padding": null,
            "grid_auto_rows": null,
            "grid_gap": null,
            "max_width": null,
            "order": null,
            "_view_module_version": "1.2.0",
            "grid_template_areas": null,
            "object_position": null,
            "object_fit": null,
            "grid_auto_columns": null,
            "margin": null,
            "display": null,
            "left": null
          }
        },
        "dd2a269be5094e6f83c35c902a589c2c": {
          "model_module": "@jupyter-widgets/controls",
          "model_name": "DescriptionStyleModel",
          "state": {
            "_view_name": "StyleView",
            "_model_name": "DescriptionStyleModel",
            "description_width": "",
            "_view_module": "@jupyter-widgets/base",
            "_model_module_version": "1.5.0",
            "_view_count": null,
            "_view_module_version": "1.2.0",
            "_model_module": "@jupyter-widgets/controls"
          }
        },
        "6377e4f82f244a10a13b79704e4682ec": {
          "model_module": "@jupyter-widgets/base",
          "model_name": "LayoutModel",
          "state": {
            "_view_name": "LayoutView",
            "grid_template_rows": null,
            "right": null,
            "justify_content": null,
            "_view_module": "@jupyter-widgets/base",
            "overflow": null,
            "_model_module_version": "1.2.0",
            "_view_count": null,
            "flex_flow": null,
            "width": null,
            "min_width": null,
            "border": null,
            "align_items": null,
            "bottom": null,
            "_model_module": "@jupyter-widgets/base",
            "top": null,
            "grid_column": null,
            "overflow_y": null,
            "overflow_x": null,
            "grid_auto_flow": null,
            "grid_area": null,
            "grid_template_columns": null,
            "flex": null,
            "_model_name": "LayoutModel",
            "justify_items": null,
            "grid_row": null,
            "max_height": null,
            "align_content": null,
            "visibility": null,
            "align_self": null,
            "height": null,
            "min_height": null,
            "padding": null,
            "grid_auto_rows": null,
            "grid_gap": null,
            "max_width": null,
            "order": null,
            "_view_module_version": "1.2.0",
            "grid_template_areas": null,
            "object_position": null,
            "object_fit": null,
            "grid_auto_columns": null,
            "margin": null,
            "display": null,
            "left": null
          }
        },
        "bf1e91ec4a114193b99ef7340d3ece90": {
          "model_module": "@jupyter-widgets/controls",
          "model_name": "HBoxModel",
          "state": {
            "_view_name": "HBoxView",
            "_dom_classes": [],
            "_model_name": "HBoxModel",
            "_view_module": "@jupyter-widgets/controls",
            "_model_module_version": "1.5.0",
            "_view_count": null,
            "_view_module_version": "1.5.0",
            "box_style": "",
            "layout": "IPY_MODEL_e78cbd48c08f442fa5b3e71098983e64",
            "_model_module": "@jupyter-widgets/controls",
            "children": [
              "IPY_MODEL_9f267cf8a7eb4adc832a09bc7c23b9e9",
              "IPY_MODEL_25e51bc128a04005b2dd39f0c8e03c87"
            ]
          }
        },
        "e78cbd48c08f442fa5b3e71098983e64": {
          "model_module": "@jupyter-widgets/base",
          "model_name": "LayoutModel",
          "state": {
            "_view_name": "LayoutView",
            "grid_template_rows": null,
            "right": null,
            "justify_content": null,
            "_view_module": "@jupyter-widgets/base",
            "overflow": null,
            "_model_module_version": "1.2.0",
            "_view_count": null,
            "flex_flow": null,
            "width": null,
            "min_width": null,
            "border": null,
            "align_items": null,
            "bottom": null,
            "_model_module": "@jupyter-widgets/base",
            "top": null,
            "grid_column": null,
            "overflow_y": null,
            "overflow_x": null,
            "grid_auto_flow": null,
            "grid_area": null,
            "grid_template_columns": null,
            "flex": null,
            "_model_name": "LayoutModel",
            "justify_items": null,
            "grid_row": null,
            "max_height": null,
            "align_content": null,
            "visibility": null,
            "align_self": null,
            "height": null,
            "min_height": null,
            "padding": null,
            "grid_auto_rows": null,
            "grid_gap": null,
            "max_width": null,
            "order": null,
            "_view_module_version": "1.2.0",
            "grid_template_areas": null,
            "object_position": null,
            "object_fit": null,
            "grid_auto_columns": null,
            "margin": null,
            "display": null,
            "left": null
          }
        },
        "9f267cf8a7eb4adc832a09bc7c23b9e9": {
          "model_module": "@jupyter-widgets/controls",
          "model_name": "FloatProgressModel",
          "state": {
            "_view_name": "ProgressView",
            "style": "IPY_MODEL_2ece45c910fd46b5a232ca569b07c85a",
            "_dom_classes": [],
            "description": "tagged_posts.tsv: 100%",
            "_model_name": "FloatProgressModel",
            "bar_style": "success",
            "max": 145677870,
            "_view_module": "@jupyter-widgets/controls",
            "_model_module_version": "1.5.0",
            "value": 145677870,
            "_view_count": null,
            "_view_module_version": "1.5.0",
            "orientation": "horizontal",
            "min": 0,
            "description_tooltip": null,
            "_model_module": "@jupyter-widgets/controls",
            "layout": "IPY_MODEL_00a88a71ab3542058edd2e87fe2a0ecf"
          }
        },
        "25e51bc128a04005b2dd39f0c8e03c87": {
          "model_module": "@jupyter-widgets/controls",
          "model_name": "HTMLModel",
          "state": {
            "_view_name": "HTMLView",
            "style": "IPY_MODEL_1342b85b320f4fa6a282f19fdb09efcb",
            "_dom_classes": [],
            "description": "",
            "_model_name": "HTMLModel",
            "placeholder": "​",
            "_view_module": "@jupyter-widgets/controls",
            "_model_module_version": "1.5.0",
            "value": " 146M/146M [00:10&lt;00:00, 14.5MB/s]",
            "_view_count": null,
            "_view_module_version": "1.5.0",
            "description_tooltip": null,
            "_model_module": "@jupyter-widgets/controls",
            "layout": "IPY_MODEL_ddf9d64685b34bbd8bd6bfd363e3fcd2"
          }
        },
        "2ece45c910fd46b5a232ca569b07c85a": {
          "model_module": "@jupyter-widgets/controls",
          "model_name": "ProgressStyleModel",
          "state": {
            "_view_name": "StyleView",
            "_model_name": "ProgressStyleModel",
            "description_width": "initial",
            "_view_module": "@jupyter-widgets/base",
            "_model_module_version": "1.5.0",
            "_view_count": null,
            "_view_module_version": "1.2.0",
            "bar_color": null,
            "_model_module": "@jupyter-widgets/controls"
          }
        },
        "00a88a71ab3542058edd2e87fe2a0ecf": {
          "model_module": "@jupyter-widgets/base",
          "model_name": "LayoutModel",
          "state": {
            "_view_name": "LayoutView",
            "grid_template_rows": null,
            "right": null,
            "justify_content": null,
            "_view_module": "@jupyter-widgets/base",
            "overflow": null,
            "_model_module_version": "1.2.0",
            "_view_count": null,
            "flex_flow": null,
            "width": null,
            "min_width": null,
            "border": null,
            "align_items": null,
            "bottom": null,
            "_model_module": "@jupyter-widgets/base",
            "top": null,
            "grid_column": null,
            "overflow_y": null,
            "overflow_x": null,
            "grid_auto_flow": null,
            "grid_area": null,
            "grid_template_columns": null,
            "flex": null,
            "_model_name": "LayoutModel",
            "justify_items": null,
            "grid_row": null,
            "max_height": null,
            "align_content": null,
            "visibility": null,
            "align_self": null,
            "height": null,
            "min_height": null,
            "padding": null,
            "grid_auto_rows": null,
            "grid_gap": null,
            "max_width": null,
            "order": null,
            "_view_module_version": "1.2.0",
            "grid_template_areas": null,
            "object_position": null,
            "object_fit": null,
            "grid_auto_columns": null,
            "margin": null,
            "display": null,
            "left": null
          }
        },
        "1342b85b320f4fa6a282f19fdb09efcb": {
          "model_module": "@jupyter-widgets/controls",
          "model_name": "DescriptionStyleModel",
          "state": {
            "_view_name": "StyleView",
            "_model_name": "DescriptionStyleModel",
            "description_width": "",
            "_view_module": "@jupyter-widgets/base",
            "_model_module_version": "1.5.0",
            "_view_count": null,
            "_view_module_version": "1.2.0",
            "_model_module": "@jupyter-widgets/controls"
          }
        },
        "ddf9d64685b34bbd8bd6bfd363e3fcd2": {
          "model_module": "@jupyter-widgets/base",
          "model_name": "LayoutModel",
          "state": {
            "_view_name": "LayoutView",
            "grid_template_rows": null,
            "right": null,
            "justify_content": null,
            "_view_module": "@jupyter-widgets/base",
            "overflow": null,
            "_model_module_version": "1.2.0",
            "_view_count": null,
            "flex_flow": null,
            "width": null,
            "min_width": null,
            "border": null,
            "align_items": null,
            "bottom": null,
            "_model_module": "@jupyter-widgets/base",
            "top": null,
            "grid_column": null,
            "overflow_y": null,
            "overflow_x": null,
            "grid_auto_flow": null,
            "grid_area": null,
            "grid_template_columns": null,
            "flex": null,
            "_model_name": "LayoutModel",
            "justify_items": null,
            "grid_row": null,
            "max_height": null,
            "align_content": null,
            "visibility": null,
            "align_self": null,
            "height": null,
            "min_height": null,
            "padding": null,
            "grid_auto_rows": null,
            "grid_gap": null,
            "max_width": null,
            "order": null,
            "_view_module_version": "1.2.0",
            "grid_template_areas": null,
            "object_position": null,
            "object_fit": null,
            "grid_auto_columns": null,
            "margin": null,
            "display": null,
            "left": null
          }
        }
      }
    }
  },
  "cells": [
    {
      "cell_type": "markdown",
      "metadata": {
        "id": "cmiSm3MYi4wF",
        "colab_type": "text"
      },
      "source": [
        "# Final project: StackOverflow assistant bot\n",
        "\n",
        "Congratulations on coming this far and solving the programming assignments! In this final project, we will combine everything we have learned about Natural Language Processing to construct a *dialogue chat bot*, which will be able to:\n",
        "* answer programming-related questions (using StackOverflow dataset);\n",
        "* chit-chat and simulate dialogue on all non programming-related questions.\n",
        "\n",
        "For a chit-chat mode we will use a pre-trained neural network engine available from [ChatterBot](https://github.com/gunthercox/ChatterBot).\n",
        "Those who aim at honor certificates for our course or are just curious, will train their own models for chit-chat.\n",
        "![](https://imgs.xkcd.com/comics/twitter_bot.png)\n",
        "©[xkcd](https://xkcd.com)"
      ]
    },
    {
      "cell_type": "code",
      "metadata": {
        "id": "-OiT4E9WjDis",
        "colab_type": "code",
        "colab": {}
      },
      "source": [
        "# !pip install tensorflow\n",
        "# %tensorflow_version 1.x\n",
        "# import tensorflow as tf"
      ],
      "execution_count": null,
      "outputs": []
    },
    {
      "cell_type": "markdown",
      "metadata": {
        "id": "xxSrtR31i4wG",
        "colab_type": "text"
      },
      "source": [
        "### Data description\n",
        "\n",
        "To detect *intent* of users questions we will need two text collections:\n",
        "- `tagged_posts.tsv` — StackOverflow posts, tagged with one programming language (*positive samples*).\n",
        "- `dialogues.tsv` — dialogue phrases from movie subtitles (*negative samples*).\n"
      ]
    },
    {
      "cell_type": "code",
      "metadata": {
        "id": "4X9ADjiNi4wH",
        "colab_type": "code",
        "colab": {
          "base_uri": "https://localhost:8080/",
          "height": 322,
          "referenced_widgets": [
            "9790858b5f6d4a3090733a04d819ee03",
            "0923958491254488a3f53df9e95a3919",
            "4b02bca0c71e4906a67046350b7ed06d",
            "3d691c0486884788ac738858af3b4491",
            "43f50f0c1ce54130923dd5d733f99cb6",
            "a1d073de9a21476e811b8c732b9dc6cf",
            "dd2a269be5094e6f83c35c902a589c2c",
            "6377e4f82f244a10a13b79704e4682ec",
            "bf1e91ec4a114193b99ef7340d3ece90",
            "e78cbd48c08f442fa5b3e71098983e64",
            "9f267cf8a7eb4adc832a09bc7c23b9e9",
            "25e51bc128a04005b2dd39f0c8e03c87",
            "2ece45c910fd46b5a232ca569b07c85a",
            "00a88a71ab3542058edd2e87fe2a0ecf",
            "1342b85b320f4fa6a282f19fdb09efcb",
            "ddf9d64685b34bbd8bd6bfd363e3fcd2"
          ]
        },
        "outputId": "561b7a0a-129a-4342-862e-e4ed061a8018"
      },
      "source": [
        "try:\n",
        "    import google.colab\n",
        "    IN_COLAB = True\n",
        "except:\n",
        "    IN_COLAB = False\n",
        "\n",
        "if IN_COLAB:\n",
        "    ! wget https://raw.githubusercontent.com/hse-aml/natural-language-processing/master/setup_google_colab.py -O setup_google_colab.py\n",
        "    import setup_google_colab\n",
        "    setup_google_colab.setup_project()\n",
        "\n",
        "import sys\n",
        "sys.path.append(\"..\")\n",
        "from common.download_utils import download_project_resources\n",
        "\n",
        "download_project_resources()"
      ],
      "execution_count": 1,
      "outputs": [
        {
          "output_type": "stream",
          "text": [
            "--2020-07-12 21:49:19--  https://raw.githubusercontent.com/hse-aml/natural-language-processing/master/setup_google_colab.py\n",
            "Resolving raw.githubusercontent.com (raw.githubusercontent.com)... 151.101.0.133, 151.101.64.133, 151.101.128.133, ...\n",
            "Connecting to raw.githubusercontent.com (raw.githubusercontent.com)|151.101.0.133|:443... connected.\n",
            "HTTP request sent, awaiting response... 200 OK\n",
            "Length: 1939 (1.9K) [text/plain]\n",
            "Saving to: ‘setup_google_colab.py’\n",
            "\n",
            "setup_google_colab. 100%[===================>]   1.89K  --.-KB/s    in 0s      \n",
            "\n",
            "2020-07-12 21:49:21 (27.9 MB/s) - ‘setup_google_colab.py’ saved [1939/1939]\n",
            "\n"
          ],
          "name": "stdout"
        },
        {
          "output_type": "display_data",
          "data": {
            "application/vnd.jupyter.widget-view+json": {
              "model_id": "9790858b5f6d4a3090733a04d819ee03",
              "version_minor": 0,
              "version_major": 2
            },
            "text/plain": [
              "HBox(children=(FloatProgress(value=0.0, max=18012894.0), HTML(value='')))"
            ]
          },
          "metadata": {
            "tags": []
          }
        },
        {
          "output_type": "stream",
          "text": [
            "\n"
          ],
          "name": "stdout"
        },
        {
          "output_type": "display_data",
          "data": {
            "application/vnd.jupyter.widget-view+json": {
              "model_id": "bf1e91ec4a114193b99ef7340d3ece90",
              "version_minor": 0,
              "version_major": 2
            },
            "text/plain": [
              "HBox(children=(FloatProgress(value=0.0, max=145677870.0), HTML(value='')))"
            ]
          },
          "metadata": {
            "tags": []
          }
        },
        {
          "output_type": "stream",
          "text": [
            "\n"
          ],
          "name": "stdout"
        }
      ]
    },
    {
      "cell_type": "markdown",
      "metadata": {
        "id": "qRrChaKRi4wM",
        "colab_type": "text"
      },
      "source": [
        "For those questions, that have programming-related intent, we will proceed as follow predict programming language (only one tag per question allowed here) and rank candidates within the tag using embeddings.\n",
        "For the ranking part, you will need:\n",
        "- `word_embeddings.tsv` — word embeddings, that you  trained with StarSpace in the 3rd assignment. It's not a problem if you didn't do it, because we can offer an alternative solution for you."
      ]
    },
    {
      "cell_type": "markdown",
      "metadata": {
        "id": "CW474nmLi4wM",
        "colab_type": "text"
      },
      "source": [
        "As a result of this notebook, you should obtain the following new objects that you will then use in the running bot:\n",
        "\n",
        "- `intent_recognizer.pkl` — intent recognition model;\n",
        "- `tag_classifier.pkl` — programming language classification model;\n",
        "- `tfidf_vectorizer.pkl` — vectorizer used during training;\n",
        "- `thread_embeddings_by_tags` — folder with thread embeddings, arranged by tags.\n",
        "    "
      ]
    },
    {
      "cell_type": "markdown",
      "metadata": {
        "id": "lXZp8wpli4wN",
        "colab_type": "text"
      },
      "source": [
        "Some functions will be reused by this notebook and the scripts, so we put them into *utils.py* file. Don't forget to open it and fill in the gaps!"
      ]
    },
    {
      "cell_type": "code",
      "metadata": {
        "id": "2auEKrQzi4wO",
        "colab_type": "code",
        "colab": {
          "base_uri": "https://localhost:8080/",
          "height": 51
        },
        "outputId": "7f7a3694-c5ad-48f4-90b2-cd93806f4b6e"
      },
      "source": [
        "from utils import *"
      ],
      "execution_count": 2,
      "outputs": [
        {
          "output_type": "stream",
          "text": [
            "[nltk_data] Downloading package stopwords to /root/nltk_data...\n",
            "[nltk_data]   Unzipping corpora/stopwords.zip.\n"
          ],
          "name": "stderr"
        }
      ]
    },
    {
      "cell_type": "markdown",
      "metadata": {
        "id": "0SGiwJDRi4wR",
        "colab_type": "text"
      },
      "source": [
        "## Part I. Intent and language recognition"
      ]
    },
    {
      "cell_type": "markdown",
      "metadata": {
        "id": "3x2fEzL6i4wR",
        "colab_type": "text"
      },
      "source": [
        "We want to write a bot, which will not only **answer programming-related questions**, but also will be able to **maintain a dialogue**. We would also like to detect the *intent* of the user from the question (we could have had a 'Question answering mode' check-box in the bot, but it wouldn't fun at all, would it?). So the first thing we need to do is to **distinguish programming-related questions from general ones**.\n",
        "\n",
        "It would also be good to predict which programming language a particular question referees to. By doing so, we will speed up question search by a factor of the number of languages (10 here), and exercise our *text classification* skill a bit. :)"
      ]
    },
    {
      "cell_type": "code",
      "metadata": {
        "id": "U_xUTbN6i4wS",
        "colab_type": "code",
        "colab": {}
      },
      "source": [
        "import numpy as np\n",
        "import pandas as pd\n",
        "import pickle\n",
        "import re\n",
        "import scipy\n",
        "from sklearn.feature_extraction.text import TfidfVectorizer"
      ],
      "execution_count": 3,
      "outputs": []
    },
    {
      "cell_type": "markdown",
      "metadata": {
        "id": "lPpAoP9ji4wV",
        "colab_type": "text"
      },
      "source": [
        "### Data preparation"
      ]
    },
    {
      "cell_type": "markdown",
      "metadata": {
        "id": "g19HEOFGi4wW",
        "colab_type": "text"
      },
      "source": [
        "In the first assignment (Predict tags on StackOverflow with linear models), you have already learnt how to preprocess texts and do TF-IDF tranformations. Reuse your code here. In addition, you will also need to [dump](https://docs.python.org/3/library/pickle.html#pickle.dump) the TF-IDF vectorizer with pickle to use it later in the running bot."
      ]
    },
    {
      "cell_type": "code",
      "metadata": {
        "id": "1AV9nfOzi4wW",
        "colab_type": "code",
        "colab": {}
      },
      "source": [
        "def tfidf_features(X_train, X_test, vectorizer_path):\n",
        "    \"\"\"Performs TF-IDF transformation and dumps the model.\"\"\"\n",
        "    \n",
        "    # Train a vectorizer on X_train data.\n",
        "    # Transform X_train and X_test data.\n",
        "    \n",
        "    # Pickle the trained vectorizer to 'vectorizer_path'\n",
        "    # Don't forget to open the file in writing bytes mode.\n",
        "    \n",
        "    ######################################\n",
        "    ######### YOUR CODE HERE #############\n",
        "    ######################################\n",
        "    tfidf_vectorizer = TfidfVectorizer(min_df=10, max_df=0.85, ngram_range=(1, 2), token_pattern='(\\S+)')\n",
        "    X_train = tfidf_vectorizer.fit_transform(X_train)\n",
        "    X_test = tfidf_vectorizer.transform(X_test)\n",
        "    with open(vectorizer_path, 'wb') as f:\n",
        "        pickle.dump(tfidf_vectorizer, f)\n",
        "    \n",
        "    return X_train, X_test"
      ],
      "execution_count": 4,
      "outputs": []
    },
    {
      "cell_type": "markdown",
      "metadata": {
        "id": "AwKQTa1Gi4wZ",
        "colab_type": "text"
      },
      "source": [
        "Now, load examples of two classes. Use a subsample of stackoverflow data to balance the classes. You will need the full data later."
      ]
    },
    {
      "cell_type": "code",
      "metadata": {
        "id": "r9k-mSKoi4wa",
        "colab_type": "code",
        "colab": {}
      },
      "source": [
        "sample_size = 200000\n",
        "\n",
        "dialogue_df = pd.read_csv('data/dialogues.tsv', sep='\\t').sample(sample_size, random_state=0)\n",
        "stackoverflow_df = pd.read_csv('data/tagged_posts.tsv', sep='\\t').sample(sample_size, random_state=0)"
      ],
      "execution_count": 5,
      "outputs": []
    },
    {
      "cell_type": "markdown",
      "metadata": {
        "id": "eEMK-NJ8i4we",
        "colab_type": "text"
      },
      "source": [
        "Check how the data look like:"
      ]
    },
    {
      "cell_type": "code",
      "metadata": {
        "id": "9BHUz41Ri4wf",
        "colab_type": "code",
        "colab": {
          "base_uri": "https://localhost:8080/",
          "height": 204
        },
        "outputId": "386e2efc-b9ff-4d07-bff2-dadb06876c76"
      },
      "source": [
        "dialogue_df.head()"
      ],
      "execution_count": 6,
      "outputs": [
        {
          "output_type": "execute_result",
          "data": {
            "text/html": [
              "<div>\n",
              "<style scoped>\n",
              "    .dataframe tbody tr th:only-of-type {\n",
              "        vertical-align: middle;\n",
              "    }\n",
              "\n",
              "    .dataframe tbody tr th {\n",
              "        vertical-align: top;\n",
              "    }\n",
              "\n",
              "    .dataframe thead th {\n",
              "        text-align: right;\n",
              "    }\n",
              "</style>\n",
              "<table border=\"1\" class=\"dataframe\">\n",
              "  <thead>\n",
              "    <tr style=\"text-align: right;\">\n",
              "      <th></th>\n",
              "      <th>text</th>\n",
              "      <th>tag</th>\n",
              "    </tr>\n",
              "  </thead>\n",
              "  <tbody>\n",
              "    <tr>\n",
              "      <th>82925</th>\n",
              "      <td>Donna, you are a muffin.</td>\n",
              "      <td>dialogue</td>\n",
              "    </tr>\n",
              "    <tr>\n",
              "      <th>48774</th>\n",
              "      <td>He was here last night till about two o'clock....</td>\n",
              "      <td>dialogue</td>\n",
              "    </tr>\n",
              "    <tr>\n",
              "      <th>55394</th>\n",
              "      <td>All right, then make an appointment with her s...</td>\n",
              "      <td>dialogue</td>\n",
              "    </tr>\n",
              "    <tr>\n",
              "      <th>90806</th>\n",
              "      <td>Hey, what is this-an interview? We're supposed...</td>\n",
              "      <td>dialogue</td>\n",
              "    </tr>\n",
              "    <tr>\n",
              "      <th>107758</th>\n",
              "      <td>Yeah. He's just a friend of mine I was trying ...</td>\n",
              "      <td>dialogue</td>\n",
              "    </tr>\n",
              "  </tbody>\n",
              "</table>\n",
              "</div>"
            ],
            "text/plain": [
              "                                                     text       tag\n",
              "82925                            Donna, you are a muffin.  dialogue\n",
              "48774   He was here last night till about two o'clock....  dialogue\n",
              "55394   All right, then make an appointment with her s...  dialogue\n",
              "90806   Hey, what is this-an interview? We're supposed...  dialogue\n",
              "107758  Yeah. He's just a friend of mine I was trying ...  dialogue"
            ]
          },
          "metadata": {
            "tags": []
          },
          "execution_count": 6
        }
      ]
    },
    {
      "cell_type": "code",
      "metadata": {
        "id": "WD9vZOxai4wi",
        "colab_type": "code",
        "colab": {
          "base_uri": "https://localhost:8080/",
          "height": 204
        },
        "outputId": "cb60ec14-2081-4d4c-b11c-13d40fc9449b"
      },
      "source": [
        "stackoverflow_df.head()"
      ],
      "execution_count": 7,
      "outputs": [
        {
          "output_type": "execute_result",
          "data": {
            "text/html": [
              "<div>\n",
              "<style scoped>\n",
              "    .dataframe tbody tr th:only-of-type {\n",
              "        vertical-align: middle;\n",
              "    }\n",
              "\n",
              "    .dataframe tbody tr th {\n",
              "        vertical-align: top;\n",
              "    }\n",
              "\n",
              "    .dataframe thead th {\n",
              "        text-align: right;\n",
              "    }\n",
              "</style>\n",
              "<table border=\"1\" class=\"dataframe\">\n",
              "  <thead>\n",
              "    <tr style=\"text-align: right;\">\n",
              "      <th></th>\n",
              "      <th>post_id</th>\n",
              "      <th>title</th>\n",
              "      <th>tag</th>\n",
              "    </tr>\n",
              "  </thead>\n",
              "  <tbody>\n",
              "    <tr>\n",
              "      <th>2168983</th>\n",
              "      <td>43837842</td>\n",
              "      <td>Efficient Algorithm to compose valid expressio...</td>\n",
              "      <td>python</td>\n",
              "    </tr>\n",
              "    <tr>\n",
              "      <th>1084095</th>\n",
              "      <td>15747223</td>\n",
              "      <td>Why does this basic thread program fail with C...</td>\n",
              "      <td>c_cpp</td>\n",
              "    </tr>\n",
              "    <tr>\n",
              "      <th>1049020</th>\n",
              "      <td>15189594</td>\n",
              "      <td>Link to scroll to top not working</td>\n",
              "      <td>javascript</td>\n",
              "    </tr>\n",
              "    <tr>\n",
              "      <th>200466</th>\n",
              "      <td>3273927</td>\n",
              "      <td>Is it possible to implement ping on windows ph...</td>\n",
              "      <td>c#</td>\n",
              "    </tr>\n",
              "    <tr>\n",
              "      <th>1200249</th>\n",
              "      <td>17684551</td>\n",
              "      <td>GLSL normal mapping issue</td>\n",
              "      <td>c_cpp</td>\n",
              "    </tr>\n",
              "  </tbody>\n",
              "</table>\n",
              "</div>"
            ],
            "text/plain": [
              "          post_id  ...         tag\n",
              "2168983  43837842  ...      python\n",
              "1084095  15747223  ...       c_cpp\n",
              "1049020  15189594  ...  javascript\n",
              "200466    3273927  ...          c#\n",
              "1200249  17684551  ...       c_cpp\n",
              "\n",
              "[5 rows x 3 columns]"
            ]
          },
          "metadata": {
            "tags": []
          },
          "execution_count": 7
        }
      ]
    },
    {
      "cell_type": "markdown",
      "metadata": {
        "id": "jd9gSi5Ui4wl",
        "colab_type": "text"
      },
      "source": [
        "Apply *text_prepare* function to preprocess the data:"
      ]
    },
    {
      "cell_type": "code",
      "metadata": {
        "id": "KK0Yj7LKi4wm",
        "colab_type": "code",
        "colab": {}
      },
      "source": [
        "from utils import text_prepare"
      ],
      "execution_count": 8,
      "outputs": []
    },
    {
      "cell_type": "code",
      "metadata": {
        "id": "yaIwvtVfi4wp",
        "colab_type": "code",
        "colab": {}
      },
      "source": [
        "dialogue_df['text'] = dialogue_df['text'].apply(text_prepare) ######### YOUR CODE HERE #############\n",
        "stackoverflow_df['title'] = stackoverflow_df['title'].apply(text_prepare) ######### YOUR CODE HERE #############"
      ],
      "execution_count": 9,
      "outputs": []
    },
    {
      "cell_type": "markdown",
      "metadata": {
        "id": "vf-estrXi4wt",
        "colab_type": "text"
      },
      "source": [
        "### Intent recognition"
      ]
    },
    {
      "cell_type": "markdown",
      "metadata": {
        "id": "NepiuFXwi4wt",
        "colab_type": "text"
      },
      "source": [
        "We will do a binary classification on TF-IDF representations of texts. Labels will be either `dialogue` for general questions or `stackoverflow` for programming-related questions. First, prepare the data for this task:\n",
        "- concatenate `dialogue` and `stackoverflow` examples into one sample\n",
        "- split it into train and test in proportion 9:1, use *random_state=0* for reproducibility\n",
        "- transform it into TF-IDF features"
      ]
    },
    {
      "cell_type": "code",
      "metadata": {
        "id": "MRlLi-KXi4wu",
        "colab_type": "code",
        "colab": {}
      },
      "source": [
        "from sklearn.model_selection import train_test_split"
      ],
      "execution_count": 10,
      "outputs": []
    },
    {
      "cell_type": "code",
      "metadata": {
        "id": "7mISfuu1i4wz",
        "colab_type": "code",
        "colab": {
          "base_uri": "https://localhost:8080/",
          "height": 68
        },
        "outputId": "97aab7ed-acba-442b-d38a-6f6820aa45e9"
      },
      "source": [
        "%%time\n",
        "X = np.concatenate([dialogue_df['text'].values, stackoverflow_df['title'].values])\n",
        "y = ['dialogue'] * dialogue_df.shape[0] + ['stackoverflow'] * stackoverflow_df.shape[0]\n",
        "\n",
        "X_train, X_test, y_train, y_test = train_test_split(X, y, test_size=0.1, random_state=0) ######### YOUR CODE HERE ##########\n",
        "print('Train size = {}, test size = {}'.format(len(X_train), len(X_test)))\n",
        "\n",
        "X_train_tfidf, X_test_tfidf = tfidf_features(X_train, X_test, RESOURCE_PATH['TFIDF_VECTORIZER']) ######### YOUR CODE HERE ###########"
      ],
      "execution_count": 11,
      "outputs": [
        {
          "output_type": "stream",
          "text": [
            "Train size = 360000, test size = 40000\n",
            "CPU times: user 13 s, sys: 202 ms, total: 13.2 s\n",
            "Wall time: 13.3 s\n"
          ],
          "name": "stdout"
        }
      ]
    },
    {
      "cell_type": "markdown",
      "metadata": {
        "id": "ZCJOqVgSi4w1",
        "colab_type": "text"
      },
      "source": [
        "Train the **intent recognizer** using LogisticRegression on the train set with the following parameters: *penalty='l2'*, *C=10*, *random_state=0*. Print out the accuracy on the test set to check whether everything looks good."
      ]
    },
    {
      "cell_type": "code",
      "metadata": {
        "id": "JG8zX1j0i4w2",
        "colab_type": "code",
        "colab": {}
      },
      "source": [
        "from sklearn.linear_model import LogisticRegression\n",
        "from sklearn.metrics import accuracy_score"
      ],
      "execution_count": 12,
      "outputs": []
    },
    {
      "cell_type": "code",
      "metadata": {
        "id": "Dzl2jTF_i4w5",
        "colab_type": "code",
        "colab": {
          "base_uri": "https://localhost:8080/",
          "height": 102
        },
        "outputId": "6306a3f6-7cf8-4d21-b619-d2001e9982f1"
      },
      "source": [
        "######################################\n",
        "######### YOUR CODE HERE #############\n",
        "######################################\n",
        "intent_recognizer = LogisticRegression(penalty='l2', C=10, random_state=0, solver='liblinear')\n",
        "intent_recognizer.fit(X_train_tfidf, y_train)"
      ],
      "execution_count": 13,
      "outputs": [
        {
          "output_type": "execute_result",
          "data": {
            "text/plain": [
              "LogisticRegression(C=10, class_weight=None, dual=False, fit_intercept=True,\n",
              "                   intercept_scaling=1, l1_ratio=None, max_iter=100,\n",
              "                   multi_class='auto', n_jobs=None, penalty='l2',\n",
              "                   random_state=0, solver='liblinear', tol=0.0001, verbose=0,\n",
              "                   warm_start=False)"
            ]
          },
          "metadata": {
            "tags": []
          },
          "execution_count": 13
        }
      ]
    },
    {
      "cell_type": "code",
      "metadata": {
        "id": "zl3ogY3vi4w8",
        "colab_type": "code",
        "colab": {
          "base_uri": "https://localhost:8080/",
          "height": 34
        },
        "outputId": "6cc74c63-48ed-4b0a-deff-df824cbe526a"
      },
      "source": [
        "# Check test accuracy.\n",
        "y_test_pred = intent_recognizer.predict(X_test_tfidf)\n",
        "test_accuracy = accuracy_score(y_test, y_test_pred)\n",
        "print('Test accuracy = {}'.format(test_accuracy))"
      ],
      "execution_count": 14,
      "outputs": [
        {
          "output_type": "stream",
          "text": [
            "Test accuracy = 0.991025\n"
          ],
          "name": "stdout"
        }
      ]
    },
    {
      "cell_type": "markdown",
      "metadata": {
        "id": "NFC4tZNHi4xA",
        "colab_type": "text"
      },
      "source": [
        "Dump the classifier to use it in the running bot."
      ]
    },
    {
      "cell_type": "code",
      "metadata": {
        "id": "nCKr1-K4i4xB",
        "colab_type": "code",
        "colab": {}
      },
      "source": [
        "pickle.dump(intent_recognizer, open(RESOURCE_PATH['INTENT_RECOGNIZER'], 'wb'))"
      ],
      "execution_count": 15,
      "outputs": []
    },
    {
      "cell_type": "markdown",
      "metadata": {
        "id": "4G6hhH9ii4xD",
        "colab_type": "text"
      },
      "source": [
        "### Programming language classification "
      ]
    },
    {
      "cell_type": "markdown",
      "metadata": {
        "id": "X-DHwPJmi4xE",
        "colab_type": "text"
      },
      "source": [
        "We will train one more classifier for the programming-related questions. It will predict exactly one tag (=programming language) and will be also based on Logistic Regression with TF-IDF features. \n",
        "\n",
        "First, let us prepare the data for this task."
      ]
    },
    {
      "cell_type": "code",
      "metadata": {
        "id": "HCY7lH6Zi4xE",
        "colab_type": "code",
        "colab": {}
      },
      "source": [
        "X = stackoverflow_df['title'].values\n",
        "y = stackoverflow_df['tag'].values"
      ],
      "execution_count": 16,
      "outputs": []
    },
    {
      "cell_type": "code",
      "metadata": {
        "id": "O24KjzHmi4xH",
        "colab_type": "code",
        "colab": {
          "base_uri": "https://localhost:8080/",
          "height": 34
        },
        "outputId": "183a7cbf-b859-4c08-cff9-7604a0da8b20"
      },
      "source": [
        "X_train, X_test, y_train, y_test = train_test_split(X, y, test_size=0.2, random_state=0)\n",
        "print('Train size = {}, test size = {}'.format(len(X_train), len(X_test)))"
      ],
      "execution_count": 17,
      "outputs": [
        {
          "output_type": "stream",
          "text": [
            "Train size = 160000, test size = 40000\n"
          ],
          "name": "stdout"
        }
      ]
    },
    {
      "cell_type": "markdown",
      "metadata": {
        "id": "5JHnERgLi4xJ",
        "colab_type": "text"
      },
      "source": [
        "Let us reuse the TF-IDF vectorizer that we have already created above. It should not make a huge difference which data was used to train it."
      ]
    },
    {
      "cell_type": "code",
      "metadata": {
        "id": "cgF5ZtSBi4xK",
        "colab_type": "code",
        "colab": {}
      },
      "source": [
        "vectorizer = pickle.load(open(RESOURCE_PATH['TFIDF_VECTORIZER'], 'rb'))\n",
        "\n",
        "X_train_tfidf, X_test_tfidf = vectorizer.transform(X_train), vectorizer.transform(X_test)"
      ],
      "execution_count": 18,
      "outputs": []
    },
    {
      "cell_type": "markdown",
      "metadata": {
        "id": "311y4s6Yi4xM",
        "colab_type": "text"
      },
      "source": [
        "Train the **tag classifier** using OneVsRestClassifier wrapper over LogisticRegression. Use the following parameters: *penalty='l2'*, *C=5*, *random_state=0*."
      ]
    },
    {
      "cell_type": "code",
      "metadata": {
        "id": "U_e_zFpZi4xN",
        "colab_type": "code",
        "colab": {}
      },
      "source": [
        "from sklearn.multiclass import OneVsRestClassifier"
      ],
      "execution_count": 19,
      "outputs": []
    },
    {
      "cell_type": "code",
      "metadata": {
        "id": "ydynJ_W-i4xQ",
        "colab_type": "code",
        "colab": {
          "base_uri": "https://localhost:8080/",
          "height": 187
        },
        "outputId": "af5ba92d-4e9f-4d51-e8d8-7f3f5162766c"
      },
      "source": [
        "######################################\n",
        "######### YOUR CODE HERE #############\n",
        "######################################\n",
        "tag_classifier = OneVsRestClassifier(LogisticRegression(penalty='l2', C=5, \n",
        "                                                        random_state=0, solver='liblinear'))\n",
        "tag_classifier.fit(X_train_tfidf, y_train)"
      ],
      "execution_count": 20,
      "outputs": [
        {
          "output_type": "execute_result",
          "data": {
            "text/plain": [
              "OneVsRestClassifier(estimator=LogisticRegression(C=5, class_weight=None,\n",
              "                                                 dual=False, fit_intercept=True,\n",
              "                                                 intercept_scaling=1,\n",
              "                                                 l1_ratio=None, max_iter=100,\n",
              "                                                 multi_class='auto',\n",
              "                                                 n_jobs=None, penalty='l2',\n",
              "                                                 random_state=0,\n",
              "                                                 solver='liblinear', tol=0.0001,\n",
              "                                                 verbose=0, warm_start=False),\n",
              "                    n_jobs=None)"
            ]
          },
          "metadata": {
            "tags": []
          },
          "execution_count": 20
        }
      ]
    },
    {
      "cell_type": "code",
      "metadata": {
        "id": "uqM6xWRti4xU",
        "colab_type": "code",
        "colab": {
          "base_uri": "https://localhost:8080/",
          "height": 34
        },
        "outputId": "0add3006-7608-44ad-9e76-6b467161ccfd"
      },
      "source": [
        "# Check test accuracy.\n",
        "y_test_pred = tag_classifier.predict(X_test_tfidf)\n",
        "test_accuracy = accuracy_score(y_test, y_test_pred)\n",
        "print('Test accuracy = {}'.format(test_accuracy))"
      ],
      "execution_count": 21,
      "outputs": [
        {
          "output_type": "stream",
          "text": [
            "Test accuracy = 0.795175\n"
          ],
          "name": "stdout"
        }
      ]
    },
    {
      "cell_type": "markdown",
      "metadata": {
        "id": "BADyno3Ci4xX",
        "colab_type": "text"
      },
      "source": [
        "Dump the classifier to use it in the running bot."
      ]
    },
    {
      "cell_type": "code",
      "metadata": {
        "id": "qZY4h2qYi4xX",
        "colab_type": "code",
        "colab": {}
      },
      "source": [
        "pickle.dump(tag_classifier, open(RESOURCE_PATH['TAG_CLASSIFIER'], 'wb'))"
      ],
      "execution_count": 22,
      "outputs": []
    },
    {
      "cell_type": "markdown",
      "metadata": {
        "id": "xPwzsjWYi4xa",
        "colab_type": "text"
      },
      "source": [
        "## Part II. Ranking  questions with embeddings"
      ]
    },
    {
      "cell_type": "markdown",
      "metadata": {
        "id": "45V3dhmfi4xa",
        "colab_type": "text"
      },
      "source": [
        "To find a relevant answer (a thread from StackOverflow) on a question you will use vector representations to calculate similarity between the question and existing threads. We already had `question_to_vec` function from the assignment 3, which can create such a representation based on word vectors. \n",
        "\n",
        "However, it would be costly to compute such a representation for all possible answers in *online mode* of the bot (e.g. when bot is running and answering questions from many users). This is the reason why you will create a *database* with pre-computed representations. These representations will be arranged by non-overlaping tags (programming languages), so that the search of the answer can be performed only within one tag each time. This will make our bot even more efficient and allow not to store all the database in RAM. "
      ]
    },
    {
      "cell_type": "markdown",
      "metadata": {
        "id": "MVB6xYeyi4xa",
        "colab_type": "text"
      },
      "source": [
        "Load StarSpace embeddings which were trained on Stack Overflow posts. These embeddings were trained in *supervised mode* for duplicates detection on the same corpus that is used in search. We can account on that these representations will allow us to find closely related answers for a question. \n",
        "\n",
        "If for some reasons you didn't train StarSpace embeddings in the assignment 3, you can use [pre-trained word vectors](https://code.google.com/archive/p/word2vec/) from Google. All instructions about how to work with these vectors were provided in the same assignment. However, we highly recommend to use StarSpace's embeddings, because it contains more appropriate embeddings. If you chose to use Google's embeddings, delete the words, which is not in Stackoverflow data."
      ]
    },
    {
      "cell_type": "code",
      "metadata": {
        "id": "Y4fxfXzURJRx",
        "colab_type": "code",
        "colab": {}
      },
      "source": [
        "# from google.colab import drive\n",
        "# drive.mount('/content/drive')\n",
        "from utils import question_to_vec, load_embeddings, unpickle_file"
      ],
      "execution_count": 23,
      "outputs": []
    },
    {
      "cell_type": "code",
      "metadata": {
        "id": "G0epLWfRi4xb",
        "colab_type": "code",
        "colab": {}
      },
      "source": [
        "starspace_embeddings, embeddings_dim = load_embeddings('data/word_embeddings.tsv')"
      ],
      "execution_count": 24,
      "outputs": []
    },
    {
      "cell_type": "markdown",
      "metadata": {
        "id": "08fj11bKi4xe",
        "colab_type": "text"
      },
      "source": [
        "Since we want to precompute representations for all possible answers, we need to load the whole posts dataset, unlike we did for the intent classifier:"
      ]
    },
    {
      "cell_type": "code",
      "metadata": {
        "id": "_bjL6-G7i4xe",
        "colab_type": "code",
        "colab": {}
      },
      "source": [
        "posts_df = pd.read_csv('data/tagged_posts.tsv', sep='\\t')"
      ],
      "execution_count": 25,
      "outputs": []
    },
    {
      "cell_type": "markdown",
      "metadata": {
        "id": "QeLrUeH8i4xi",
        "colab_type": "text"
      },
      "source": [
        "Look at the distribution of posts for programming languages (tags) and find the most common ones. \n",
        "You might want to use pandas [groupby](https://pandas.pydata.org/pandas-docs/stable/generated/pandas.DataFrame.groupby.html) and [count](https://pandas.pydata.org/pandas-docs/stable/generated/pandas.DataFrame.count.html) methods:"
      ]
    },
    {
      "cell_type": "code",
      "metadata": {
        "id": "qDvVd1W4i4xi",
        "colab_type": "code",
        "colab": {}
      },
      "source": [
        "counts_by_tag = posts_df.groupby('tag')['tag'].count() ######### YOUR CODE HERE #############"
      ],
      "execution_count": 26,
      "outputs": []
    },
    {
      "cell_type": "markdown",
      "metadata": {
        "id": "BBlrq2v1i4xk",
        "colab_type": "text"
      },
      "source": [
        "Now for each `tag` you need to create two data structures, which will serve as online search index:\n",
        "* `tag_post_ids` — a list of post_ids with shape `(counts_by_tag[tag],)`. It will be needed to show the title and link to the thread;\n",
        "* `tag_vectors` — a matrix with shape `(counts_by_tag[tag], embeddings_dim)` where embeddings for each answer are stored.\n",
        "\n",
        "Implement the code which will calculate the mentioned structures and dump it to files. It should take several minutes to compute it."
      ]
    },
    {
      "cell_type": "code",
      "metadata": {
        "id": "OGaeJihai4xl",
        "colab_type": "code",
        "colab": {}
      },
      "source": [
        "import os\n",
        "os.makedirs(RESOURCE_PATH['THREAD_EMBEDDINGS_FOLDER'], exist_ok=True)\n",
        "\n",
        "for tag, count in counts_by_tag.items():\n",
        "    tag_posts = posts_df[posts_df['tag'] == tag]\n",
        "    \n",
        "    tag_post_ids = tag_posts['post_id'].values ######### YOUR CODE HERE #############\n",
        "    \n",
        "    tag_vectors = np.zeros((count, embeddings_dim), dtype=np.float32)\n",
        "    for i, title in enumerate(tag_posts['title']):\n",
        "        tag_vectors[i, :] = question_to_vec(title, starspace_embeddings, embeddings_dim)  ######### YOUR CODE HERE #############\n",
        "\n",
        "    # Dump post ids and vectors to a file.\n",
        "    filename = os.path.join(RESOURCE_PATH['THREAD_EMBEDDINGS_FOLDER'], os.path.normpath('%s.pkl' % tag))\n",
        "    pickle.dump((tag_post_ids, tag_vectors), open(filename, 'wb'))"
      ],
      "execution_count": 27,
      "outputs": []
    },
    {
      "cell_type": "code",
      "metadata": {
        "id": "O8iW0hkEXoce",
        "colab_type": "code",
        "colab": {}
      },
      "source": [
        "import main_bot"
      ],
      "execution_count": 41,
      "outputs": []
    },
    {
      "cell_type": "code",
      "metadata": {
        "id": "OZn9yfKbE8UL",
        "colab_type": "code",
        "colab": {
          "base_uri": "https://localhost:8080/",
          "height": 938
        },
        "outputId": "25b9377f-40c3-4b8f-cdd2-7c7a4647dbd2"
      },
      "source": [
        "!python main_bot.py"
      ],
      "execution_count": 42,
      "outputs": [
        {
          "output_type": "stream",
          "text": [
            "[nltk_data] Downloading package stopwords to /root/nltk_data...\n",
            "[nltk_data]   Package stopwords is already up-to-date!\n",
            "Loading resources...\n",
            "Ready to talk!\n",
            "An update received.\n",
            "Update content: {'update_id': 298820661, 'message': {'message_id': 14, 'from': {'id': 1132358954, 'is_bot': False, 'first_name': 'Hieu', 'last_name': 'Ng', 'language_code': 'en'}, 'chat': {'id': 1132358954, 'first_name': 'Hieu', 'last_name': 'Ng', 'type': 'private'}, 'date': 1594593639, 'text': '/start', 'entities': [{'offset': 0, 'length': 6, 'type': 'bot_command'}]}}\n",
            "An update received.\n",
            "Update content: {'update_id': 298820662, 'message': {'message_id': 16, 'from': {'id': 1132358954, 'is_bot': False, 'first_name': 'Hieu', 'last_name': 'Ng', 'language_code': 'en'}, 'chat': {'id': 1132358954, 'first_name': 'Hieu', 'last_name': 'Ng', 'type': 'private'}, 'date': 1594593673, 'text': 'How do I use python pandas?'}}\n",
            "An update received.\n",
            "Update content: {'update_id': 298820663, 'message': {'message_id': 18, 'from': {'id': 1132358954, 'is_bot': False, 'first_name': 'Hieu', 'last_name': 'Ng', 'language_code': 'en'}, 'chat': {'id': 1132358954, 'first_name': 'Hieu', 'last_name': 'Ng', 'type': 'private'}, 'date': 1594593736, 'text': 'I need to draw a bar plot in R'}}\n",
            "An update received.\n",
            "An update received.\n",
            "Update content: {'update_id': 298820665, 'message': {'message_id': 22, 'from': {'id': 1132358954, 'is_bot': False, 'first_name': 'Hieu', 'last_name': 'Ng', 'language_code': 'en'}, 'chat': {'id': 1132358954, 'first_name': 'Hieu', 'last_name': 'Ng', 'type': 'private'}, 'date': 1594593904, 'text': 'Who is your dad?'}}\n",
            "An update received.\n",
            "Update content: {'update_id': 298820666, 'message': {'message_id': 24, 'from': {'id': 1132358954, 'is_bot': False, 'first_name': 'Hieu', 'last_name': 'Ng', 'language_code': 'en'}, 'chat': {'id': 1132358954, 'first_name': 'Hieu', 'last_name': 'Ng', 'type': 'private'}, 'date': 1594593931, 'text': 'Man who is your dad?'}}\n",
            "Traceback (most recent call last):\n",
            "  File \"main_bot.py\", line 106, in <module>\n",
            "    main()\n",
            "  File \"main_bot.py\", line 89, in main\n",
            "    updates = bot.get_updates(offset=offset)\n",
            "  File \"main_bot.py\", line 30, in get_updates\n",
            "    raw_resp = requests.get(urljoin(self.api_url, \"getUpdates\"), params)\n",
            "  File \"/usr/local/lib/python3.6/dist-packages/requests/api.py\", line 76, in get\n",
            "    return request('get', url, params=params, **kwargs)\n",
            "  File \"/usr/local/lib/python3.6/dist-packages/requests/api.py\", line 61, in request\n",
            "    return session.request(method=method, url=url, **kwargs)\n",
            "  File \"/usr/local/lib/python3.6/dist-packages/requests/sessions.py\", line 530, in request\n",
            "    resp = self.send(prep, **send_kwargs)\n",
            "  File \"/usr/local/lib/python3.6/dist-packages/requests/sessions.py\", line 643, in send\n",
            "    r = adapter.send(request, **kwargs)\n",
            "  File \"/usr/local/lib/python3.6/dist-packages/requests/adapters.py\", line 449, in send\n",
            "    timeout=timeout\n",
            "  File \"/usr/local/lib/python3.6/dist-packages/urllib3/connectionpool.py\", line 677, in urlopen\n",
            "  File \"/usr/local/lib/python3.6/dist-packages/urllib3/connectionpool.py\", line 426, in _make_request\n",
            "    six.raise_from(e, None)\n",
            "  File \"<string>\", line 3, in raise_from\n",
            "  File \"/usr/local/lib/python3.6/dist-packages/urllib3/connectionpool.py\", line 421, in _make_request\n",
            "    httplib_response = conn.getresponse()\n",
            "  File \"/usr/lib/python3.6/http/client.py\", line 1356, in getresponse\n",
            "    response.begin()\n",
            "  File \"/usr/lib/python3.6/http/client.py\", line 307, in begin\n",
            "    version, status, reason = self._read_status()\n",
            "  File \"/usr/lib/python3.6/http/client.py\", line 268, in _read_status\n",
            "    line = str(self.fp.readline(_MAXLINE + 1), \"iso-8859-1\")\n",
            "  File \"/usr/lib/python3.6/socket.py\", line 586, in readinto\n",
            "    return self._sock.recv_into(b)\n",
            "  File \"/usr/lib/python3.6/ssl.py\", line 1012, in recv_into\n",
            "    return self.read(nbytes, buffer)\n",
            "  File \"/usr/lib/python3.6/ssl.py\", line 874, in read\n",
            "    return self._sslobj.read(len, buffer)\n",
            "  File \"/usr/lib/python3.6/ssl.py\", line 631, in read\n",
            "    v = self._sslobj.read(len, buffer)\n",
            "KeyboardInterrupt\n"
          ],
          "name": "stdout"
        }
      ]
    },
    {
      "cell_type": "code",
      "metadata": {
        "id": "ZDxP9xA0L86P",
        "colab_type": "code",
        "colab": {}
      },
      "source": [
        ""
      ],
      "execution_count": null,
      "outputs": []
    }
  ]
}